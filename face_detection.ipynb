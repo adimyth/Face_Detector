{
 "cells": [
  {
   "cell_type": "markdown",
   "metadata": {},
   "source": [
    "## FACE DETECTION USING PYTHON\n",
    "\n",
    "** A simple python program to detect a known face using a webcam.**"
   ]
  },
  {
   "cell_type": "code",
   "execution_count": 1,
   "metadata": {},
   "outputs": [],
   "source": [
    "# Required Imports\n",
    "\n",
    "import dlib\n",
    "import scipy.misc\n",
    "import numpy as np\n",
    "import os\n",
    "import cv2\n",
    "from imutils.video import WebcamVideoStream\n",
    "from imutils.video import FPS\n",
    "import imutils\n",
    "import glob\n",
    "import time"
   ]
  },
  {
   "cell_type": "code",
   "execution_count": 2,
   "metadata": {},
   "outputs": [],
   "source": [
    "# Detecting human faces and calculating facial landmarks\n",
    "\n",
    "face_detector = dlib.get_frontal_face_detector()\n",
    "shape_predictor = dlib.shape_predictor('./shape_predictor_68_face_landmarks.dat')\n",
    "\n",
    "# This object maps human faces into 128D vectors where pictures of the same person are mapped near to each other and pictures of different people are mapped far apart.\n",
    "face_recognition_model = dlib.face_recognition_model_v1('./dlib_face_recognition_resnet_model_v1.dat')"
   ]
  },
  {
   "cell_type": "code",
   "execution_count": 3,
   "metadata": {},
   "outputs": [],
   "source": [
    "TOLERANCE = 0.5"
   ]
  },
  {
   "cell_type": "code",
   "execution_count": 4,
   "metadata": {},
   "outputs": [],
   "source": [
    "def get_face_encodings(path):\n",
    "    image = scipy.misc.imread(path)\n",
    "    # number of faces to detect\n",
    "    detected_faces = face_detector(image,1)\n",
    "    shapes_faces = [shape_predictor(image,face) for face in detected_faces]\n",
    "    # Get face_encodings for faces\n",
    "    return [np.array(face_recognition_model.compute_face_descriptor(image,face_pose,1)) for face_pose in shapes_faces]"
   ]
  },
  {
   "cell_type": "code",
   "execution_count": 5,
   "metadata": {},
   "outputs": [],
   "source": [
    "def get_face_encodings_camera(image):\n",
    "    detected_faces = face_detector(image,1)\t\t\n",
    "    shapes_faces = [shape_predictor(image,face) for face in detected_faces]\n",
    "    return [np.array(face_recognition_model.compute_face_descriptor(image,face_pose,1)) for face_pose in shapes_faces]"
   ]
  },
  {
   "cell_type": "code",
   "execution_count": 6,
   "metadata": {},
   "outputs": [],
   "source": [
    "def compare_face_encodings(known_faces,face):\n",
    "    return (np.linalg.norm(known_faces - face,axis = 1) <= TOLERANCE)"
   ]
  },
  {
   "cell_type": "code",
   "execution_count": 7,
   "metadata": {},
   "outputs": [],
   "source": [
    "def find_match(known_faces,names,face):\n",
    "    matches = compare_face_encodings(known_faces,face)\n",
    "    count = 0\n",
    "    for match in matches:\n",
    "        if match:\n",
    "            return names[count]\n",
    "        count += 1\n",
    "    return \"Intruder\"\n"
   ]
  },
  {
   "cell_type": "code",
   "execution_count": 8,
   "metadata": {},
   "outputs": [
    {
     "name": "stdout",
     "output_type": "stream",
     "text": [
      "These are my training Images :\n",
      "aditya.jpg\n",
      "aditya_mishra.jpg\n",
      "leonardo_dicaprio.jpg\n",
      "obama.jpg\n",
      "sk.jpg\n"
     ]
    }
   ],
   "source": [
    "image_filenames = filter(lambda x: x.endswith('.jpg'),os.listdir('images/'))\n",
    "image_filenames = sorted(image_filenames)\n",
    "names = [x[:-4] for x in image_filenames]\n",
    "print(\"These are my training Images :\")\n",
    "for img in image_filenames:\n",
    "    print(img)"
   ]
  },
  {
   "cell_type": "code",
   "execution_count": 9,
   "metadata": {},
   "outputs": [],
   "source": [
    "paths_to_images = ['images/'+x for x in image_filenames]  \n",
    "face_encodings  = []\n",
    "for img in paths_to_images:\n",
    "    encoding = get_face_encodings(img)\n",
    "    if len(encoding) == 0:\n",
    "        print(\"No face found in the image\")\n",
    "        exit()\n",
    "    elif len(encoding) > 1:\n",
    "        print(\"More then 1 face found in the image\")\n",
    "        exit()\n",
    "    face_encodings.append(get_face_encodings(img)[0])\n"
   ]
  },
  {
   "cell_type": "code",
   "execution_count": null,
   "metadata": {},
   "outputs": [],
   "source": [
    "# WebCam Check\n",
    "print(\"Warming up camera...\")\n",
    "vs = WebcamVideoStream(src = 0).start()\n",
    "while True:\n",
    "    img = vs.read()\n",
    "    cv2.imshow(\"Frame\",img)\n",
    "    key = cv2.waitKey(1)\n",
    "    if key == ord('q'):\n",
    "        break\n",
    "    img = cv2.cvtColor(img,cv2.COLOR_BGR2RGB)\n",
    "    encoding = get_face_encodings_camera(img)\n",
    "    if len(encoding) == 0:\n",
    "        print(\"No face found in the image\")\n",
    "        # Allow the person to make movements\n",
    "        time.sleep(20)\n",
    "    match = find_match(face_encodings,names,encoding[0])\n",
    "    print(match)"
   ]
  },
  {
   "cell_type": "code",
   "execution_count": 10,
   "metadata": {},
   "outputs": [
    {
     "name": "stdout",
     "output_type": "stream",
     "text": [
      "These are my testing Images :\n",
      "test_dicaprio_young.jpg\n",
      "test_dicaprio.jpg\n",
      "test_rock.jpg\n",
      "test_obama.jpg\n",
      "Checking whether test images exist in Training set\n",
      "('test/test_dicaprio_young.jpg', 'Intruder')\n",
      "('test/test_dicaprio.jpg', 'leonardo_dicaprio')\n",
      "('test/test_rock.jpg', 'Intruder')\n",
      "('test/test_obama.jpg', 'obama')\n"
     ]
    }
   ],
   "source": [
    "# File Check\n",
    "image_filenames = filter(lambda x: x.endswith('.jpg'),os.listdir('test/'))\n",
    "print(\"These are my testing Images :\")\n",
    "for img in image_filenames:\n",
    "    print(img)\n",
    "paths_to_images = ['test/'+x for x in image_filenames]\n",
    "\n",
    "print(\"Checking whether test images exist in Training set\")\n",
    "for img in paths_to_images:\n",
    "    encoding = get_face_encodings(img)\n",
    "    if len(encoding) == 0:\n",
    "        print(\"No face found in the image\")\n",
    "        exit()\n",
    "    elif len(encoding) > 1:\n",
    "        print(\"More then 1 face found in the image\")\n",
    "        exit()\n",
    "    match = find_match(face_encodings,names,encoding[0])\n",
    "    print(img,match)"
   ]
  },
  {
   "cell_type": "code",
   "execution_count": null,
   "metadata": {},
   "outputs": [],
   "source": []
  }
 ],
 "metadata": {
  "kernelspec": {
   "display_name": "Python 2",
   "language": "python",
   "name": "python2"
  },
  "language_info": {
   "codemirror_mode": {
    "name": "ipython",
    "version": 2
   },
   "file_extension": ".py",
   "mimetype": "text/x-python",
   "name": "python",
   "nbconvert_exporter": "python",
   "pygments_lexer": "ipython2",
   "version": "2.7.13"
  }
 },
 "nbformat": 4,
 "nbformat_minor": 2
}
